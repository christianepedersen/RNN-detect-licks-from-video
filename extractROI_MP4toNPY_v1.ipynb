{
 "cells": [
  {
   "cell_type": "code",
   "execution_count": null,
   "metadata": {},
   "outputs": [],
   "source": []
  },
  {
   "cell_type": "code",
   "execution_count": null,
   "metadata": {},
   "outputs": [],
   "source": [
    "import numpy as np\n",
    "import pandas as pd\n",
    "import matplotlib.pyplot as plt\n",
    "\n",
    "import sys\n",
    "import cv2\n"
   ]
  },
  {
   "cell_type": "code",
   "execution_count": null,
   "metadata": {},
   "outputs": [],
   "source": [
    "#!pip install opencv-contrib-python "
   ]
  },
  {
   "cell_type": "code",
   "execution_count": null,
   "metadata": {},
   "outputs": [],
   "source": []
  },
  {
   "cell_type": "code",
   "execution_count": null,
   "metadata": {},
   "outputs": [],
   "source": [
    "# list mp4 filenames to import\n",
    "mp4FileName = []\n",
    "#mp4FileName.append('207R_090419')\n",
    "#mp4FileName.append('207RR_090419')\n",
    "#mp4FileName.append('207LL_090419')\n",
    "#mp4FileName.append('366L_090419')\n",
    "mp4FileName.append('366B_090419')\n",
    "#mp4FileName.append('367B_090419')\n",
    "\n",
    "# list 100x100 pixel ROI anchors (frames = 31095, y = 720, x = 1280, RGBcolor = 3)\n",
    "ROIanchors = []\n",
    "#ROIanchors.append([275,580])\n",
    "#ROIanchors.append([320,650])\n",
    "#ROIanchors.append([300,650])\n",
    "#ROIanchors.append([330,650])\n",
    "ROIanchors.append([330,540])\n",
    "#ROIanchors.append([330,540])\n"
   ]
  },
  {
   "cell_type": "code",
   "execution_count": null,
   "metadata": {},
   "outputs": [],
   "source": []
  },
  {
   "cell_type": "code",
   "execution_count": null,
   "metadata": {},
   "outputs": [],
   "source": [
    "\n",
    "#sys.getsizeof(x)   # get the size of a variable\n",
    "\n",
    "# Note, takes like 15 seconds per 1000 frames\n",
    "\n",
    "#vidIDX = 3\n",
    "ROIsize = 100\n",
    "\n",
    "for vidIDX in range(0,len(mp4FileName)):\n",
    "\n",
    "    cap = cv2.VideoCapture(mp4FileName[vidIDX] + '.mp4')\n",
    "    frameCount = int(cap.get(cv2.CAP_PROP_FRAME_COUNT))\n",
    "    frameWidth = int(cap.get(cv2.CAP_PROP_FRAME_WIDTH))\n",
    "    frameHeight = int(cap.get(cv2.CAP_PROP_FRAME_HEIGHT))\n",
    "\n",
    "    #buf = np.empty((frameCount, frameHeight, frameWidth, 3), np.dtype('uint8'))\n",
    "    buf = np.empty((frameCount, ROIsize, ROIsize), np.dtype('uint8'))\n",
    "\n",
    "    # example pixel dimensions (frames = 31095, y = 720, x = 1280, RGBcolor = 3)  (video is ~1870 seconds long)\n",
    "\n",
    "    fc = 0\n",
    "    ret = True\n",
    "\n",
    "    while (fc < frameCount  and ret):  # fc < frameCount, fc < 1000\n",
    "\n",
    "        # read in a given frame    (shape of tempFrame = (720, 1280, 3))\n",
    "        ret, tempFrame = cap.read()\n",
    "\n",
    "        # compress 3 colors dimensions into 1 grayscale dimension\n",
    "        tempFrame = np.mean(tempFrame,axis=2)\n",
    "\n",
    "        # use y and x anchor to crop frame\n",
    "        tinyFrame = tempFrame[ROIanchors[vidIDX][0]:ROIanchors[vidIDX][0]+ROIsize,ROIanchors[vidIDX][1]:ROIanchors[vidIDX][1]+ROIsize]\n",
    "\n",
    "        # discretize pixel bins (32 bins, not 256 (uint8))\n",
    "        tinyFrame = tinyFrame*3\n",
    "        tinyFrame[tinyFrame > 255] = 255\n",
    "        tinyFrame = np.floor(tinyFrame/8)\n",
    "\n",
    "        buf[fc] = tinyFrame\n",
    "\n",
    "        #ret, buf[fc] = cap.read()\n",
    "        fc += 1\n",
    "\n",
    "        if fc%10000 == 0:\n",
    "\n",
    "            print(fc)\n",
    "\n",
    "    cap.release()\n",
    "\n",
    "    #### save buf ??\n",
    "    #np.save(mp4FileName[vidIDX]+'.npy', buf)    # .npy extension is added if not given\n",
    "\n"
   ]
  },
  {
   "cell_type": "code",
   "execution_count": null,
   "metadata": {},
   "outputs": [],
   "source": []
  },
  {
   "cell_type": "code",
   "execution_count": null,
   "metadata": {},
   "outputs": [],
   "source": [
    "#bufavg = np.mean(buf[0:1000,:,:],axis=0)\n",
    "\n",
    "# Explore images from the data set\n",
    "plt.figure()\n",
    "plt.figure(figsize=(14,14))\n",
    "\n",
    "for panel in range(9):\n",
    "    \n",
    "    #bufavg = np.std(buf[(panel*1000+1):((panel+1)*1000),:,:],axis=0)\n",
    "    bufavg = np.mean(buf[(panel*1000+1):((panel+1)*1000),:,:],axis=0)\n",
    "    plt.subplot(3, 3, panel+1)\n",
    "    plt.imshow(bufavg)\n",
    "    \n",
    "    #plt.colorbar()\n",
    "    plt.grid(False)\n",
    "    \n",
    "plt.show()\n",
    "# Check size of buf (in GB)\n",
    "print('Size of buf (GB): {}'.format(sys.getsizeof(buf) / 10**9))"
   ]
  },
  {
   "cell_type": "code",
   "execution_count": null,
   "metadata": {},
   "outputs": [],
   "source": []
  },
  {
   "cell_type": "code",
   "execution_count": null,
   "metadata": {},
   "outputs": [],
   "source": []
  },
  {
   "cell_type": "code",
   "execution_count": null,
   "metadata": {},
   "outputs": [],
   "source": []
  },
  {
   "cell_type": "code",
   "execution_count": null,
   "metadata": {},
   "outputs": [],
   "source": []
  }
 ],
 "metadata": {
  "kernelspec": {
   "display_name": "Python 3",
   "language": "python",
   "name": "python3"
  },
  "language_info": {
   "codemirror_mode": {
    "name": "ipython",
    "version": 3
   },
   "file_extension": ".py",
   "mimetype": "text/x-python",
   "name": "python",
   "nbconvert_exporter": "python",
   "pygments_lexer": "ipython3",
   "version": "3.8.5"
  }
 },
 "nbformat": 4,
 "nbformat_minor": 4
}
