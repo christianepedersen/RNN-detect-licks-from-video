{
 "cells": [
  {
   "cell_type": "code",
   "execution_count": null,
   "metadata": {},
   "outputs": [],
   "source": []
  },
  {
   "cell_type": "code",
   "execution_count": null,
   "metadata": {},
   "outputs": [],
   "source": [
    "#!pip install tensorflow"
   ]
  },
  {
   "cell_type": "code",
   "execution_count": 1,
   "metadata": {},
   "outputs": [],
   "source": [
    "# import packages\n",
    "\n",
    "import tensorflow as tf\n",
    "import keras\n",
    "from keras import backend as K\n",
    "import numpy as np\n",
    "import pandas as pd\n",
    "%matplotlib inline\n",
    "import matplotlib.pyplot as plt\n",
    "\n",
    "from keras.models import Sequential\n",
    "from keras.layers import Conv2D, MaxPooling2D, Flatten , Dense, Activation,Dropout\n",
    "from keras.layers.advanced_activations import LeakyReLU\n",
    "from keras.layers.normalization import BatchNormalization\n",
    "\n",
    "from skimage.transform import rescale, resize, downscale_local_mean"
   ]
  },
  {
   "cell_type": "code",
   "execution_count": null,
   "metadata": {},
   "outputs": [],
   "source": []
  },
  {
   "cell_type": "code",
   "execution_count": 2,
   "metadata": {},
   "outputs": [],
   "source": [
    "# delays between contact licometer and video\n",
    "\n",
    "#090419\n",
    "# mouse1 = 96.5 seconds"
   ]
  },
  {
   "cell_type": "code",
   "execution_count": null,
   "metadata": {},
   "outputs": [],
   "source": []
  },
  {
   "cell_type": "code",
   "execution_count": 39,
   "metadata": {},
   "outputs": [],
   "source": [
    "# NOTE: RNN model of course works better when it can overfit to 1 session\n",
    "\n",
    "sessNames = []\n",
    "#sessNames.append('207R_090419')\n",
    "sessNames.append('207RR_090419')\n",
    "#sessNames.append('207LL_090419')\n",
    "#sessNames.append('366L_090419')\n",
    "#sessNames.append('366B_090419')\n",
    "sessNames.append('367B_090419')\n",
    "\n",
    "delays = []    # time (s) video recorded before licometer program began\n",
    "#delays.append(16.5)\n",
    "delays.append(15.5)\n",
    "#delays.append(9.3)\n",
    "#delays.append(6.3)\n",
    "#delays.append(12)\n",
    "delays.append(14.5)"
   ]
  },
  {
   "cell_type": "code",
   "execution_count": null,
   "metadata": {},
   "outputs": [],
   "source": []
  },
  {
   "cell_type": "code",
   "execution_count": 40,
   "metadata": {},
   "outputs": [
    {
     "name": "stdout",
     "output_type": "stream",
     "text": [
      "percent licking frames\n",
      "0.0621\n",
      "percent licking frames\n",
      "0.10846666666666667\n"
     ]
    }
   ],
   "source": [
    "    \n",
    "    \n",
    "masterMat = np.empty([len(sessNames)*30000,20,20])    \n",
    "masterLicks = np.empty([len(sessNames)*30000,])\n",
    "\n",
    "for vidIDX in range(0,len(sessNames)):\n",
    "    \n",
    "    # read in licometer data and turn into target bins\n",
    "    temp_df = pd.read_csv(sessNames[vidIDX]+'.csv',header=None)\n",
    "\n",
    "    # first reward is always at exactly 80 seconds (according to contact licometer)\n",
    "\n",
    "    temp1 = temp_df.values\n",
    "    temp1 = temp1[temp1[:,0]==1,1]\n",
    "    temp1 = temp1/1000   # convert from millisecs to secs\n",
    "    temp1 = temp1 + delays[vidIDX] # time diff between video and licometer\n",
    "    temp1 = np.round(temp1*16.6666).astype(int)\n",
    "    #temp1 = np.floor(temp1).astype(int)\n",
    "\n",
    "    #print(temp_df.shape)\n",
    "    #print(temp1.shape)\n",
    "\n",
    "    #temp1\n",
    "\n",
    "    videoMat = np.load(sessNames[vidIDX]+'.npy')\n",
    "    videoMat.shape\n",
    "\n",
    "    # downsample 16.666 FPS to 1 bin per second\n",
    "#    binFlag = np.array(range(0,len(videoMat)))+1\n",
    "#    binFlag = binFlag/16.6666\n",
    "#    binFlag = np.floor(binFlag).astype(int)\n",
    "\n",
    "#    binMat = np.empty([max(binFlag),100,100])\n",
    "\n",
    "#    for binIDX in range(0,max(binFlag)):\n",
    "\n",
    "#        tempSlice = videoMat[binFlag==binIDX,:,:]\n",
    "\n",
    "#        binMat[binIDX,:,:] = np.mean(tempSlice,axis=0)\n",
    "\n",
    "\n",
    "    binMat = videoMat\n",
    "        \n",
    "    lickTarget = np.zeros([len(binMat),])\n",
    "    lickTarget[temp1] = 1\n",
    "    lickTarget[temp1+1] = 1\n",
    "    #lickTarget[temp1+2] = 1\n",
    "    lickTarget[temp1-1] = 1\n",
    "    lickTarget.shape\n",
    "\n",
    "    # limit to the 30 min session\n",
    "    lickTarget = lickTarget[0:30000]\n",
    "    binMat = binMat[0:30000,:,:]\n",
    "    \n",
    "    downMat = np.empty([len(binMat),20,20])\n",
    "\n",
    "    for Frame in range(0,len(binMat)):\n",
    "\n",
    "        downMat[Frame] = downscale_local_mean(binMat[Frame], (5, 5))\n",
    "\n",
    "    zMat = (downMat - np.mean(downMat,axis=0)) / np.std(downMat,axis=0)\n",
    "    #zMat = downMat\n",
    "    \n",
    "    # append session bins to master matrix\n",
    "    masterLicks[vidIDX*30000:(vidIDX+1)*30000] = lickTarget\n",
    "    masterMat[vidIDX*30000:(vidIDX+1)*30000,:,:] = zMat\n",
    "    \n",
    "    print('percent licking frames')\n",
    "    print(np.sum(lickTarget)/len(lickTarget))\n",
    "    \n",
    "    \n",
    "del videoMat\n",
    "del binMat"
   ]
  },
  {
   "cell_type": "code",
   "execution_count": null,
   "metadata": {},
   "outputs": [],
   "source": []
  },
  {
   "cell_type": "code",
   "execution_count": null,
   "metadata": {},
   "outputs": [],
   "source": []
  },
  {
   "cell_type": "code",
   "execution_count": 30,
   "metadata": {},
   "outputs": [
    {
     "data": {
      "image/png": "[encoded data removed]",
      "text/plain": [
       "<Figure size 432x288 with 2 Axes>"
      ]
     },
     "metadata": {
      "needs_background": "light"
     },
     "output_type": "display_data"
    }
   ],
   "source": [
    "# Plot mean of all z scored frames when animal NOT licking\n",
    "plt.figure()\n",
    "plt.imshow(np.mean(masterMat[masterLicks==0,:,:],axis=0),vmin=-1, vmax=1)\n",
    "plt.colorbar()\n",
    "plt.grid(False)\n",
    "plt.show()"
   ]
  },
  {
   "cell_type": "code",
   "execution_count": 31,
   "metadata": {},
   "outputs": [
    {
     "data": {
      "image/png": "[encoded data removed]",
      "text/plain": [
       "<Figure size 432x288 with 2 Axes>"
      ]
     },
     "metadata": {
      "needs_background": "light"
     },
     "output_type": "display_data"
    }
   ],
   "source": [
    "# Plot mean of all z scored frames when animal licking\n",
    "plt.figure()\n",
    "plt.imshow(np.mean(masterMat[masterLicks==1,:,:],axis=0),vmin=-1, vmax=1)\n",
    "plt.colorbar()\n",
    "plt.grid(False)\n",
    "plt.show()"
   ]
  },
  {
   "cell_type": "code",
   "execution_count": null,
   "metadata": {},
   "outputs": [],
   "source": []
  },
  {
   "cell_type": "code",
   "execution_count": null,
   "metadata": {},
   "outputs": [],
   "source": []
  },
  {
   "cell_type": "code",
   "execution_count": 32,
   "metadata": {},
   "outputs": [],
   "source": [
    "# reshape x_smote and x_test\n",
    "X_2dim = masterMat.reshape([len(masterMat),400])\n"
   ]
  },
  {
   "cell_type": "code",
   "execution_count": null,
   "metadata": {},
   "outputs": [],
   "source": []
  },
  {
   "cell_type": "code",
   "execution_count": 33,
   "metadata": {},
   "outputs": [],
   "source": [
    "# For each timestep, create a 2D matrix of historical values (for training data)\n",
    "x_smote_num = X_2dim #.values\n",
    "y_smote_num = masterLicks #.values\n",
    "#y_smote_num[y_smote_num==-1] = 0\n",
    "\n",
    "timewindow = 10\n",
    "\n",
    "steps = range(5,x_smote_num.shape[0]-5)\n",
    "\n",
    "x_train_steps = np.zeros([len(steps),timewindow,x_smote_num.shape[1]])\n",
    "\n",
    "y_train_steps = np.zeros(len(steps))\n",
    "\n",
    "for timestep in steps:\n",
    "    \n",
    "    step_history = x_smote_num[range(timestep-5,timestep+5),:]\n",
    "    \n",
    "    x_train_steps[timestep-5,:,:] = step_history\n",
    "\n",
    "    y_train_steps[timestep-5] = y_smote_num[timestep]\n",
    "    "
   ]
  },
  {
   "cell_type": "code",
   "execution_count": 34,
   "metadata": {},
   "outputs": [
    {
     "data": {
      "text/plain": [
       "(59990, 10, 400)"
      ]
     },
     "execution_count": 34,
     "metadata": {},
     "output_type": "execute_result"
    }
   ],
   "source": [
    "x_train_steps.shape"
   ]
  },
  {
   "cell_type": "code",
   "execution_count": null,
   "metadata": {},
   "outputs": [],
   "source": []
  },
  {
   "cell_type": "code",
   "execution_count": 35,
   "metadata": {},
   "outputs": [],
   "source": [
    "# Split data into training versus testing\n",
    "from sklearn.model_selection import train_test_split\n",
    "\n",
    "#zMat = (zMat - np.min(zMat))/(np.max(zMat) - np.min(zMat))\n",
    "#zMat = zMat.reshape(zMat.shape[0], 20, 20, 1)\n",
    "\n",
    "# Separate Features from Target\n",
    "#X = x_train_steps   # load features into X DF\n",
    "#Y = masterLicks   # Load target into Y DF\n",
    "\n",
    "# split into a training (80%) and testing set (20%)\n",
    "X_train, X_test, y_train, y_test = train_test_split(x_train_steps, y_train_steps, test_size=0.2, random_state=1)\n"
   ]
  },
  {
   "cell_type": "code",
   "execution_count": null,
   "metadata": {},
   "outputs": [],
   "source": []
  },
  {
   "cell_type": "code",
   "execution_count": 36,
   "metadata": {},
   "outputs": [
    {
     "name": "stdout",
     "output_type": "stream",
     "text": [
      "[]\n",
      "Epoch 1/3\n",
      "4320/4320 [==============================] - 13s 3ms/step - loss: 0.2026 - accuracy: 0.9254 - val_loss: 0.1769 - val_accuracy: 0.9325\n",
      "Epoch 2/3\n",
      "4320/4320 [==============================] - 13s 3ms/step - loss: 0.1590 - accuracy: 0.9366 - val_loss: 0.1533 - val_accuracy: 0.9344\n",
      "Epoch 3/3\n",
      "4320/4320 [==============================] - 13s 3ms/step - loss: 0.1448 - accuracy: 0.9398 - val_loss: 0.1667 - val_accuracy: 0.9371\n",
      "1200/1200 [==============================] - ETA: 0s - loss: 0.1475 - accuracy: 0.94 - 2s 1ms/step - loss: 0.1478 - accuracy: 0.9447\n",
      "Test loss: 0.14782151579856873\n",
      "Test accuracy: 0.9446574449539185\n"
     ]
    }
   ],
   "source": [
    "from keras.models import Sequential\n",
    "from keras.layers import Dense, Dropout, Activation\n",
    "\n",
    "\n",
    "model2 = keras.models.Sequential()\n",
    "model2.add(keras.layers.LSTM(10,activation='relu',input_shape=x_train_steps.shape[-2:]))\n",
    "model2.add(Dropout(0.1))\n",
    "model2.add(Dense(32, input_shape=(10,),activation='relu'))\n",
    "model2.add(Dropout(0.1))\n",
    "model2.add(Dense(1, input_shape=(32,)))\n",
    "model2.add(Activation('sigmoid'))\n",
    "\n",
    "model2.compile(loss='binary_crossentropy', optimizer='adam', metrics=['accuracy'])\n",
    "print(model2.metrics_names)\n",
    "\n",
    "#print(model.summary())\n",
    "\n",
    "#### use randomized target array as control\n",
    "#y_train_steps = np.array([random.randint(0, 1) for p in range(0, len(y_train_steps))])\n",
    "\n",
    "batch_size = 10\n",
    "epochs = 3\n",
    "\n",
    "history = model2.fit(X_train, y_train, batch_size=batch_size, epochs=epochs, verbose=1, validation_split=0.1)\n",
    "score = model2.evaluate(X_test, y_test, batch_size=batch_size, verbose=1)\n",
    "print('Test loss:', score[0])\n",
    "print('Test accuracy:', score[1])"
   ]
  },
  {
   "cell_type": "code",
   "execution_count": null,
   "metadata": {},
   "outputs": [],
   "source": []
  },
  {
   "cell_type": "code",
   "execution_count": null,
   "metadata": {},
   "outputs": [],
   "source": []
  },
  {
   "cell_type": "code",
   "execution_count": 37,
   "metadata": {},
   "outputs": [
    {
     "data": {
      "text/html": [
       "<div>\n",
       "<style scoped>\n",
       "    .dataframe tbody tr th:only-of-type {\n",
       "        vertical-align: middle;\n",
       "    }\n",
       "\n",
       "    .dataframe tbody tr th {\n",
       "        vertical-align: top;\n",
       "    }\n",
       "\n",
       "    .dataframe thead th {\n",
       "        text-align: right;\n",
       "    }\n",
       "</style>\n",
       "<table border=\"1\" class=\"dataframe\">\n",
       "  <thead>\n",
       "    <tr style=\"text-align: right;\">\n",
       "      <th></th>\n",
       "      <th>Predicted No Lick</th>\n",
       "      <th>Predicted Lick</th>\n",
       "    </tr>\n",
       "  </thead>\n",
       "  <tbody>\n",
       "    <tr>\n",
       "      <th>True No Lick</th>\n",
       "      <td>10510</td>\n",
       "      <td>495</td>\n",
       "    </tr>\n",
       "    <tr>\n",
       "      <th>True Lick</th>\n",
       "      <td>288</td>\n",
       "      <td>705</td>\n",
       "    </tr>\n",
       "  </tbody>\n",
       "</table>\n",
       "</div>"
      ],
      "text/plain": [
       "              Predicted No Lick  Predicted Lick\n",
       "True No Lick              10510             495\n",
       "True Lick                   288             705"
      ]
     },
     "execution_count": 37,
     "metadata": {},
     "output_type": "execute_result"
    }
   ],
   "source": [
    "from sklearn.metrics import confusion_matrix\n",
    "\n",
    "y_pred = model2.predict(X_test)\n",
    "y_pred[y_pred>np.percentile(y_pred,90)] = 1\n",
    "y_pred = np.round(y_pred)\n",
    "\n",
    "pd.DataFrame(\n",
    "    confusion_matrix(y_test,y_pred),\n",
    "    columns=['Predicted No Lick', 'Predicted Lick'],\n",
    "    index=['True No Lick', 'True Lick']\n",
    ")"
   ]
  },
  {
   "cell_type": "code",
   "execution_count": null,
   "metadata": {},
   "outputs": [],
   "source": []
  },
  {
   "cell_type": "code",
   "execution_count": null,
   "metadata": {},
   "outputs": [],
   "source": []
  },
  {
   "cell_type": "code",
   "execution_count": 38,
   "metadata": {},
   "outputs": [
    {
     "data": {
      "text/plain": [
       "<Figure size 432x288 with 0 Axes>"
      ]
     },
     "metadata": {},
     "output_type": "display_data"
    },
    {
     "data": {
      "image/png": "[encoded data removed]",
      "text/plain": [
       "<Figure size 1296x720 with 3 Axes>"
      ]
     },
     "metadata": {
      "needs_background": "light"
     },
     "output_type": "display_data"
    }
   ],
   "source": [
    "## plot the prediction of frames and the real target\n",
    "\n",
    "plt.figure()\n",
    "fig,ax = plt.subplots(figsize=(18,10))\n",
    "\n",
    "#epochCNT = int((len(x_train_steps)/10000))\n",
    "epochCNT = 3\n",
    "\n",
    "for frameEpoch in range(0,epochCNT):\n",
    "\n",
    "    y_pred = model2.predict(x_train_steps[10000*frameEpoch:10000*(frameEpoch+1)])\n",
    "    y_true = y_train_steps[10000*frameEpoch:10000*(frameEpoch+1)]\n",
    "\n",
    "    xtics = np.array(range(0,y_true.shape[0]))\n",
    "\n",
    "    # generate markers for behavioral timestamps\n",
    "    eventFlags = xtics[y_true==1]\n",
    "    yposFlags = 1*np.ones(eventFlags.shape)\n",
    "\n",
    "    # plot timeseries for each cell, with the cell source ID included\n",
    "\n",
    "    plt.subplot(epochCNT, 1, frameEpoch+1)\n",
    "\n",
    "    plt.plot(xtics,y_pred)\n",
    "    plt.plot(eventFlags,yposFlags,'o')\n",
    "    plt.title(frameEpoch, y=0.5, loc='right')\n",
    "\n",
    "plt.show()\n",
    "\n",
    "# Orange dots represent real licks (contact licometer circuit triggered)\n",
    "# Blue represents model predict score of video frame"
   ]
  },
  {
   "cell_type": "code",
   "execution_count": null,
   "metadata": {},
   "outputs": [],
   "source": []
  },
  {
   "cell_type": "markdown",
   "metadata": {},
   "source": [
    "from keras.models import load_model\n",
    "\n",
    "model.save('my_model.h5')  # creates a HDF5 file 'my_model.h5'\n",
    "del model  # deletes the existing model\n",
    "\n",
    "#### returns a compiled model\n",
    "#### identical to the previous one\n",
    "model = load_model('my_model.h5')"
   ]
  },
  {
   "cell_type": "code",
   "execution_count": null,
   "metadata": {},
   "outputs": [],
   "source": []
  },
  {
   "cell_type": "code",
   "execution_count": null,
   "metadata": {},
   "outputs": [],
   "source": []
  },
  {
   "cell_type": "code",
   "execution_count": null,
   "metadata": {},
   "outputs": [],
   "source": []
  },
  {
   "cell_type": "markdown",
   "metadata": {},
   "source": [
    "import cv2\n",
    "import numpy as np\n",
    "import scipy.ndimage\n",
    "\n",
    "\n",
    "subMat = masterMat[1100:1300,:,:]\n",
    "subMat = (subMat - np.min(subMat))/(np.max(subMat)-np.min(subMat))\n",
    "\n",
    "subLicks = masterLicks[1100:1300]\n",
    "\n",
    "fourcc = cv2.VideoWriter_fourcc('M','J','P','G')\n",
    "\n",
    "writer = cv2.VideoWriter('test2.avi', fourcc, 5, (300, 300))\n",
    "\n",
    "for idx in range(0,len(subMat)):\n",
    "    gray = subMat[idx,:,:]\n",
    "    gray = scipy.ndimage.zoom(gray, 15, order=0)\n",
    "    \n",
    "    if subLicks[idx] == 1:\n",
    "    \n",
    "        gray[:10,:]  = 0\n",
    "        gray[-10:,:] = 0\n",
    "        gray[:,:10]  = 0\n",
    "        gray[:,-10:] = 0\n",
    "    \n",
    "    #gray = gray[0:144,0:256]\n",
    "    gray = cv2.normalize(gray, None, 255, 0, norm_type=cv2.NORM_MINMAX, dtype=cv2.CV_8U)\n",
    "    #gray_3c = cv2.cvtColor(gray,cv2.COLOR_GRAY2RGB)\n",
    "    gray_3c = cv2.merge([gray, gray, gray])\n",
    "    \n",
    "    writer.write(gray_3c)\n",
    "    \n",
    "writer.release()    "
   ]
  },
  {
   "cell_type": "code",
   "execution_count": null,
   "metadata": {},
   "outputs": [],
   "source": []
  },
  {
   "cell_type": "code",
   "execution_count": null,
   "metadata": {},
   "outputs": [],
   "source": []
  },
  {
   "cell_type": "code",
   "execution_count": null,
   "metadata": {},
   "outputs": [],
   "source": []
  }
 ],
 "metadata": {
  "kernelspec": {
   "display_name": "Python 3",
   "language": "python",
   "name": "python3"
  },
  "language_info": {
   "codemirror_mode": {
    "name": "ipython",
    "version": 3
   },
   "file_extension": ".py",
   "mimetype": "text/x-python",
   "name": "python",
   "nbconvert_exporter": "python",
   "pygments_lexer": "ipython3",
   "version": "3.8.5"
  }
 },
 "nbformat": 4,
 "nbformat_minor": 4
}
